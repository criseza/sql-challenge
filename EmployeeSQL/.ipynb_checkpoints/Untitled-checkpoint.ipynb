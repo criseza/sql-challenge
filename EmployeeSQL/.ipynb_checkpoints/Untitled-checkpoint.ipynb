{
 "cells": [
  {
   "cell_type": "code",
   "execution_count": null,
   "metadata": {},
   "outputs": [],
   "source": [
    "import pandas as pd\n",
    "import sqlalchemy\n",
    "from sqlalchemy import create_engine\n",
    "import matplotlib.pyplot as plt"
   ]
  },
  {
   "cell_type": "code",
   "execution_count": null,
   "metadata": {},
   "outputs": [],
   "source": [
    "# Postgres username, password, and database name\n",
    "ADDRESS = 'localhost'\n",
    "PORT = '49873'\n",
    "USERNAME = 'postgres'\n",
    "PASSWORD = 'criseza'\n",
    "DBNAME = 'Employees'\n",
    "\n",
    "# A long string that contains the necessary Postgres login information\n",
    "postgres_str = f\"postgresql://{USERNAME}:{PASSWORD}@{ADDRESS}:{PORT}/{DBNAME}\"\n",
    "\n",
    "engine = create_engine(postgres_str)"
   ]
  }
 ],
 "metadata": {
  "kernelspec": {
   "display_name": "Python 3",
   "language": "python",
   "name": "python3"
  },
  "language_info": {
   "codemirror_mode": {
    "name": "ipython",
    "version": 3
   },
   "file_extension": ".py",
   "mimetype": "text/x-python",
   "name": "python",
   "nbconvert_exporter": "python",
   "pygments_lexer": "ipython3",
   "version": "3.8.3"
  }
 },
 "nbformat": 4,
 "nbformat_minor": 4
}
